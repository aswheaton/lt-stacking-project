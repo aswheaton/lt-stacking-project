{
 "cells": [
  {
   "cell_type": "markdown",
   "metadata": {},
   "source": [
    "Follow some tutorials. Overview [here](http://www.astrobetter.com/blog/2014/07/07/astropy-tutorials-learn-how-to-do-common-astro-tasks-with-astropy-and-python/) at Astrobetter. Start with viewing a FITS image as explained [here](http://www.astropy.org/astropy-tutorials/FITS-images.html). Here is [astropy itself](http://docs.astropy.org/en/stable/)"
   ]
  },
  {
   "cell_type": "code",
   "execution_count": 2,
   "metadata": {},
   "outputs": [
    {
     "name": "stdout",
     "output_type": "stream",
     "text": [
      "Filename: data/fits/20120312_38_G100.fits\n",
      "No.    Name      Ver    Type      Cards   Dimensions   Format\n",
      "  0  PRIMARY       1 PrimaryHDU     240   (1024, 1024)   int16 (rescales to float32)   \n"
     ]
    }
   ],
   "source": [
    "import numpy as np\n",
    "from matplotlib import pyplot as plt\n",
    "from math import *\n",
    "%matplotlib inline\n",
    "\n",
    "from astropy.io import fits\n",
    "\n",
    "image = fits.open(\"data/fits/20120312_38_G100.fits\")    # makes a HDU list object\n",
    "\n",
    "image.info()\n"
   ]
  },
  {
   "cell_type": "markdown",
   "metadata": {
    "collapsed": true
   },
   "source": [
    "rtest[0] is the primary HDU object\n",
    "rtest[1] is the first extension, normally the data\n",
    "can get a complete header listing with:"
   ]
  },
  {
   "cell_type": "code",
   "execution_count": 10,
   "metadata": {},
   "outputs": [
    {
     "data": {
      "text/plain": [
       "SIMPLE  =                    T / A valid FITS file                              \n",
       "BITPIX  =                   16 / Required FITS header                           \n",
       "NAXIS   =                    2 / Number of axes                                 \n",
       "NAXIS1  =                 1024 / Required FITS header                           \n",
       "NAXIS2  =                 1024 / Required FITS header                           \n",
       "BZERO   =      1131.3868917453 / Required FITS header                           \n",
       "BSCALE  =   0.0340930932608339 / Required FITS header                           \n",
       "ORIGIN  = 'Liverpool JMU'                                                       \n",
       "OBSTYPE = 'EXPOSE  '           / What type of observation has been taken        \n",
       "RUNNUM  =                   38 / Number of Multrun                              \n",
       "EXPNUM  =                    1 / Number of exposure within Multrun              \n",
       "EXPTOTAL=                    1 / Total number of exposures within Multrun       \n",
       "DATE    = '2012-03-12'         / [UTC] The start date of the observation        \n",
       "DATE-OBS= '2012-03-12T21:31:12.993' / [UTC] The start time of the observation   \n",
       "UTSTART = '21:31:12.993'       / [UTC] The start time of the observation        \n",
       "MJD     =         55998.896678 / [days] Modified Julian Days.                   \n",
       "EXPTIME =          100.0000000 / [Seconds] Exposure length.                     \n",
       "FILTER1 = 'clear   '           / The first filter wheel filter type.            \n",
       "FILTERI1= 'Clear-01'           / The first filter wheel filter id.              \n",
       "FILTER2 = 'SDSS-G  '           / The second filter wheel filter type.           \n",
       "FILTERI2= 'SDSS-G-01'          / The second filter wheel filter id.             \n",
       "INSTRUME= 'RATCam  '           / Instrument used.                               \n",
       "INSTATUS= 'Nominal '           / The instrument status.                         \n",
       "CONFIGID=               293979 / Unique configuration ID.                       \n",
       "CONFNAME= 'RATCAM-G'           / The instrument configuration used.             \n",
       "DETECTOR= 'EEV CCD42-40 7041-10-5' / Science grade (1) chip.                    \n",
       "PRESCAN =                    0 / [pix] Number of pixels in pre bias strip       \n",
       "POSTSCAN=                    0 / [pix] Number of pixels in post bias strip      \n",
       "GAIN    =            2.2000000 / [electrons/count] Calibrated IAS 2008/03/18    \n",
       "READNOIS=            5.0000000 / [electrons/pixel] 2009-05-21 (from bias)       \n",
       "EPERDN  =            2.2000000 / [electrons/count] Calibrated IAS 2008/03/18    \n",
       "CCDXIMSI=                 1024 / [pixels] Imaging pixels                        \n",
       "CCDYIMSI=                 1024 / [pixels] Imaging pixels                        \n",
       "CCDXBIN =                    2 / [pixels] X binning factor                      \n",
       "CCDYBIN =                    2 / [pixels] Y binning factor                      \n",
       "CCDXPIXE=            0.0000135 / [m] Size of pixels, in X:13.5um                \n",
       "CCDYPIXE=            0.0000135 / [m] Size of pixels, in Y:13.5um                \n",
       "CCDSCALE=                0.279 / [arcsec/binned pixel] Scale of binned image on \n",
       "CCDRDOUT= 'LEFT    '           / Readout circuit used.                          \n",
       "CCDSTEMP=                  166 / [Kelvin] Required temperature.                 \n",
       "CCDATEMP=                  165 / [Kelvin] Actual temperature.                   \n",
       "CCDWMODE=                    F / Using windows if TRUE, full image if FALSE     \n",
       "CCDWXOFF=                    0 / [pixels] Offset of window in X, from the top co\n",
       "CCDWYOFF=                    0 / [pixels] Offset of window in Y, from the top co\n",
       "CCDWXSIZ=                 1080 / [pixels] Size of window in X.                  \n",
       "CCDWYSIZ=                 1024 / [pixels] Size of window in Y.                  \n",
       "CALBEFOR=                    F / Whether the calibrate before flag was set      \n",
       "CALAFTER=                    F / Whether the calibrate after flag was set       \n",
       "ROTCENTX=                 377. / [pix] Rotator centre on CCD                    \n",
       "ROTCENTY=                 393. / [pix] Rotator centre on CCD                    \n",
       "POICENTX=                 512. / [pix] Poiting centre on CCD                    \n",
       "POICENTY=                 512. / [pix] Poiting centre on CCD                    \n",
       "TELESCOP= 'Liverpool Telescope' / The Name of the Telescope                     \n",
       "TELMODE = 'ROBOTIC '           / Telescope mode                                 \n",
       "TAGID   = 'PATT    '           / Telescope Allocation Committee ID              \n",
       "USERID  = 'Lawrence.Andy'      / User login ID                                  \n",
       "PROPID  = 'PL11B08 '           / Proposal ID                                    \n",
       "GROUPID = 'SDSS-J094511 FIRST FIVE' / Group Id                                  \n",
       "OBSID   = 'OBS_1   '           / Observation Id                                 \n",
       "GRPTIMNG= 'REPEATABLE'         / Group timing constraint class                  \n",
       "GRPUID  =                68315 / Group unique ID                                \n",
       "GRPMONP =       518400.0000000 / [secs] Group monitor period                    \n",
       "GRPNUMOB=                   -1 / Number of observations in group                \n",
       "GRPEDATE= '2012-03-20 T 13:14:16 UTC' / [date] Group expiry date                \n",
       "GRPNOMEX=          640.0000000 / [secs] Group nominal exec time                 \n",
       "GRPLUNCO= 'DARK    '           / Maximum lunar brightness                       \n",
       "GRPSEECO= 'AVERAGE '           / [arcsec] Maximum seeing                        \n",
       "COMPRESS= 'PROFESSIONAL'       / Compression Mode                               \n",
       "LATITUDE=           28.7624000 / [degrees] Observatory Latitude                 \n",
       "LONGITUD=          -17.8792000 / [degrees West] Observatory Longitude           \n",
       "PROGID  = 'XPL11B08'           / Program ID                                     \n",
       "RA      = '09:45:10.866'       / World coordinate at the reference pixel        \n",
       "DEC     = '+17:45:48.17'       / World coordinate at the reference pixel        \n",
       "RADECSYS= 'FK5     '           / [FK4, FK5] Fundamental coord system            \n",
       "LST     = ' 7:43:21.00'        / [HH:MM:SS] Local sidereal time at start of curr\n",
       "EQUINOX =                2000. / Equinox of the coordinate system               \n",
       "CAT-RA  = ' 9:45:11.08'        / [HH:MM:SS.sss] RA of the current observation so\n",
       "CAT-DEC = ' 17:45:44.80'       / [DD:MM:SS.sss] Declination of the current obser\n",
       "CAT-EQUI=         2000.0000000 / [Year] Catalog date of the coordinate system fo\n",
       "CAT-EPOC=         2000.0000000 / [Year] Catalog date of the epoch               \n",
       "CAT-NAME= 'SDSS-J094511'       / Catalog name of the current observation source \n",
       "OBJECT  = 'SDSS-J094511'       / Actual name of the current observation source  \n",
       "SRCTYPE = 'EXTRASOLAR'         / Type of source                                 \n",
       "PM-RA   =            0.0000000 / [sec/year] Proper motion in RA of the current o\n",
       "PM-DEC  =            0.0000000 / [arcsec/year] Proper motion in declination  of \n",
       "PARALLAX=            0.0000000 / [arcsec] Parallax of the current observation so\n",
       "RADVEL  =            0.0000000 / [km/s] Radial velocity of the current observati\n",
       "RATRACK =            0.0000000 / [sec/sec] Non-sidereal tracking in RA of the cu\n",
       "DECTRACK=            0.0000000 / [arcsec/sec] Non-sidereal tracking in declinati\n",
       "TELSTAT = 'OKAY    '           / Current telescope status                       \n",
       "NETSTATE= 'ENABLED '           / Network control state                          \n",
       "ENGSTATE= 'DISABLED'           / Engineering override state                     \n",
       "TCSSTATE= 'OKAY    '           / TCS state                                      \n",
       "PWRESTRT=                    F / Power will be cycled imminently                \n",
       "PWSHUTDN=                    F / Power will be shutdown imminently              \n",
       "AZDMD   =          108.2539000 / [degrees] Azimuth demand                       \n",
       "AZIMUTH =          108.2539000 / [degrees] Azimuth axis position                \n",
       "AZSTAT  = 'TRACKING'           / Azimuth axis state                             \n",
       "ALTDMD  =           60.0177000 / [degrees] Altitude axis demand                 \n",
       "ALTITUDE=           60.0178000 / [degrees] Altitude axis position               \n",
       "ALTSTAT = 'TRACKING'           / Altitude axis state                            \n",
       "AIRMASS =            1.1558990 / [n/a] Airmass                                  \n",
       "ROTDMD  =           40.7427000 / Rotator axis demand                            \n",
       "ROTMODE = 'SKY     '           / [{SKY, MOUNT, VFLOAT, VERTICAL, FLOAT}] Cassegr\n",
       "ROTSKYPA=             -90.3618 / [degrees] sky position angle                   \n",
       "ROTANGLE=           40.7428000 / [degrees] Rotator mount angle                  \n",
       "ROTSTATE= 'TRACKING'           / Rotator axis state                             \n",
       "ENC1DMD = 'OPEN    '           / Enc 1 demand                                   \n",
       "ENC1POS = 'OPEN    '           / Enc 1 position                                 \n",
       "ENC1STAT= 'IN POSN '           / Enc 1 state                                    \n",
       "ENC2DMD = 'OPEN    '           / Enc 2 demand                                   \n",
       "ENC2POS = 'OPEN    '           / Enc 2 position                                 \n",
       "ENC2STAT= 'IN POSN '           / Enc 2 state                                    \n",
       "FOLDDMD = 'PORT 3  '           / Fold mirror demand                             \n",
       "FOLDPOS = 'PORT 3  '           / Fold mirror position                           \n",
       "FOLDSTAT= 'IN POSN '           / Fold mirror state                              \n",
       "PMCDMD  = 'OPEN    '           / Primary mirror cover demand                    \n",
       "PMCPOS  = 'OPEN    '           / Primary mirror cover position                  \n",
       "PMCSTAT = 'IN POSN '           / Primary mirror cover state                     \n",
       "FOCDMD  =           27.3960000 / [mm] Focus demand                              \n",
       "TELFOCUS=           27.3960000 / [mm] Focus position                            \n",
       "DFOCUS  =            0.0580000 / [mm] Focus offset                              \n",
       "FOCSTAT = 'TRACKING'           / Focus state                                    \n",
       "MIRSYSST= 'UNKNOWN '           / Primary mirror support state                   \n",
       "WMSHUMID=           12.0000000 / [0.00% - 100.00%] Current percentage humidity  \n",
       "WMSTEMP =          281.0500000 / [Kelvin] Current (external) temperature        \n",
       "WMSPRES =          776.0000000 / [mbar] Current pressure                        \n",
       "WINDSPEE=            3.1000000 / [m/s] Windspeed                                \n",
       "WINDDIR =           52.0000000 / [degrees E of N] Wind direction                \n",
       "TEMPTUBE=            6.7200000 / [degrees C] Temperature of the telescope tube  \n",
       "WMSSTATE= 'OKAY    '           / WMS system state                               \n",
       "WMSRAIN = 'CLEAR   '           / Rain alert                                     \n",
       "WMSMOIST=            0.0300000 / Moisture level                                 \n",
       "WMOILTMP=           10.1000000 / Oil temperature                                \n",
       "WMSPMT  =            0.0000000 / Primary mirror temperature                     \n",
       "WMFOCTMP=            0.0000000 / Focus temperature                              \n",
       "WMAGBTMP=           15.6800000 / AG Box temperature                             \n",
       "WMSDEWPT=          -19.6000000 / Dewpoint                                       \n",
       "CLOUD   =          -31.0000000 / [degrees C] Cloud tdiff measure                \n",
       "REFPRES =          770.0000000 / [mbar] Pressure used in refraction calculation \n",
       "REFTEMP =          283.1500000 / [Kelvin] Temperature used in refraction calcula\n",
       "REFHUMID=           30.0000000 / Percentage humidity used in refraction calculat\n",
       "AUTOGUID= 'LOCKED  '           / [{LOCKED, UNLOCKED SUSPENDED}] Autoguider lock \n",
       "AGSTATE = 'OKAY    '           / Autoguider sw state                            \n",
       "AGMODE  = 'UNKNOWN '           / Autoguider mode                                \n",
       "AGGMAG  =           12.6390000 / [mag] Autoguider guide star mag                \n",
       "AGFWHM  =            2.3080000 / [arcsec] Autoguider FWHM                       \n",
       "AGMIRDMD=            0.0000000 / [mm] Autoguider mirror demand                  \n",
       "AGMIRPOS=            0.0000000 / [mm] Autoguider mirror position                \n",
       "AGMIRST = 'IN POSN '           / Autoguider mirror state                        \n",
       "AGFOCDMD=            8.0400000 / [mm] Autoguider focus demand                   \n",
       "AGFOCUS =            8.0380000 / [mm] Autoguider focus position                 \n",
       "AGFOCST = 'TRACKING'           / Autoguider focus state                         \n",
       "AGFILDMD= 'RETRACT '           / Autoguider filter demand                       \n",
       "AGFILPOS= 'RETRACT '           / Autoguider filter position                     \n",
       "AGFILST = 'IN POSN '           / Autoguider filter state                        \n",
       "MOONSTAT= 'DOWN    '           / Moon position at start of current observation  \n",
       "MOONFRAC=            0.7293185 / [(0 - 1)] Lunar illuminated fraction           \n",
       "MOONDIST=           92.7389466 / [(degs)] Lunar Distance from Target            \n",
       "MOONALT =          -32.4582626 / [(degs)] Lunar altitude                        \n",
       "SUNALT  =          -29.8534752 / [(degs)] Solar altitude                        \n",
       "SCHEDSEE=            0.9376772 / [(arcsec)] Predicted seeing when group schedule\n",
       "SCHEDPHT= 'SPECTROSCOPIC'      / Predicted photom when group scheduled          \n",
       "ESTSEE  =            1.1920463 / [(arcsec)] Estimated seeing at start of observa\n",
       "ACQIMG  = 'NONE    '           / Acquisitioni image filename                    \n",
       "ACQMODE = 'NONE    '           / Acquisition mode                               \n",
       "ACQXPIX = 'NONE    '           / [pixels] Acquisition X pixel                   \n",
       "ACQYPIX = 'NONE    '           / [pixels] Acquisition Y pixel                   \n",
       "ACQINST = 'NONE    '           / Acquisition instrument                         \n",
       "BFOCCTRL= 'UNKNOWN '           / Beam control instrument                        \n",
       "GRPMLDCO=           15.0000000 / [degs] Minimum lunar distance                  \n",
       "GRPSOLCO= 'ASTRO_TWILIGHT'     / Solar elevation category                       \n",
       "GRPEXTCO= 'NON_PHOTOMETRIC'    / Extinction category                            \n",
       "GRPAIRCO=            2.0000000 / Maximum airmass                                \n",
       "USRDEFOC=            0.0000000 / [mm] Requested defocus                         \n",
       "EXPID   = 'c_e_20120312_38_1_1_0' / Original raw LT FITS filename               \n",
       "PIXSCALE=                0.279 / [arcsec/pixel] Nominal pixel scale on sky      \n",
       "L1MEDIAN=             49.07436 / [counts] median of frame background in counts  \n",
       "L1MEAN  =             49.03356 / [counts] mean of frame background in counts    \n",
       "L1STATOV=                    1 / Status flag for DP(RT) overscan correction     \n",
       "L1STATZE=                   -1 / Status flag for DP(RT) bias frame (zero) correc\n",
       "L1STATZM=                    1 / Mode flag for DP(RT) bias frame subtraction    \n",
       "L1STATDA=                   -1 / Status flag for DP(RT) dark frame correction   \n",
       "L1STATDM=                    3 / Mode for DP(RT) dark frame subtraction         \n",
       "L1DARKSC=                   0. / Scaling factor applied to dark frame           \n",
       "L1STATTR=                    1 / Status flag for DP(RT) overscan trimming       \n",
       "L1STATFL=                    1 / Status flag for DP(RT) flatfield correction    \n",
       "L1STATFR=                   -1 / Status flag for DP(RT) defringing correction   \n",
       "L1STATFM=                    3 / Mode flag for DP(RT) fringe frame subtraction  \n",
       "L1FRINSC=                   0. / Scaling factor applied to fringe frame         \n",
       "L1XPIX  =             47.31809 / Coordinate of brightest object in frame after t\n",
       "L1YPIX  =             995.2592 / Coordinate of brightest object in frame after t\n",
       "L1FLAT  = '/Clear-01_SDSS-G-01_2.fits' / Flat used                              \n",
       "L1COUNTS=             146067.1 / [counts] Counts in brightest object (sky subtra\n",
       "L1SKYBRT=                 99.9 / [mag/arcsec^2] Estimated sky brightness        \n",
       "L1PHOTOM=                -999. / [mag] Estimated extinction for standards images\n",
       "L1SAT   =                    F / [logical] TRUE if brightest object is saturated\n",
       "BACKGRD =             49.07436 / [counts] frame background level in counts      \n",
       "STDDEV  =             5.472157 / [counts] Standard deviation of Backgrd in count\n",
       "L1SEEING=             4.350539 / [pixels] frame seeing in pixels                \n",
       "L1SEESEC=             1.213801 / [arcsec] frame seeing in arcsec                \n",
       "SEEING  =             4.350539 / [pixels] frame seeing in pixels                \n",
       "L1DATE  = '2012-03-13 09:12:04 GMT' / When this reduction was performed         \n",
       "CTYPE1  = 'RA---TAN'           / WCS projection                                 \n",
       "CTYPE2  = 'DEC--TAN'           / WCS projection                                 \n",
       "CRPIX1  =                 512. / WCS reference pixel coordinate                 \n",
       "CRPIX2  =                 512. / WCS reference pixel coordinate                 \n",
       "CRVAL1  =        146.295274426 / [degrees] World coordinate at the ref pix      \n",
       "CRVAL2  =          17.76338016 / [degrees] World coordinate at the ref pix      \n",
       "WRA     = '9:45:11.075'        / Original RA value from TCS before WCS fit      \n",
       "WDEC    = '+17:45:44.89'       / Original DEC value from TCS before WCS fit     \n",
       "WRADECSY= 'FK5     '           / [FK4,FK5] Original Fundamental system before WC\n",
       "WROTSKY =             270.0001 / [deg] Original sky PA from TCS before WCS fit  \n",
       "EPOCH   =                2000. / Epoch of coordinate                            \n",
       "CDELT1  =       -7.7508973E-05 / [degrees/pixel]                                \n",
       "CDELT2  =        7.7508973E-05 / [degrees/pixel]                                \n",
       "CROTA1  =            90.361783 / [degrees]                                      \n",
       "CROTA2  =            90.361783 / [degrees]                                      \n",
       "CUNIT1  = 'deg     '           / Units for WCS keywords                         \n",
       "CUNIT2  = 'deg     '           / Units for WCS keywords                         \n",
       "CD1_1   =          4.89397E-07 / WCS CD matrix                                  \n",
       "CD1_2   =       -7.7507444E-05 / WCS CD matrix                                  \n",
       "CD2_1   =       -7.7507444E-05 / WCS CD matrix                                  \n",
       "CD2_2   =         -4.89397E-07 / WCS CD matrix                                  \n",
       "SECPIX  =             0.279032 / [arcsec/pixel] Fitted pixel scale on sky       \n",
       "IMWCS   = 'WCSTools 3.8.1, 14 December 2009, Doug Mink (dmink@cfa.harvard.edu)' \n",
       "WCSRFCAT= '/data/Dprt/wcs/0146.296+017.762_4_nomad.starb.fov'                   \n",
       "WCSIMCAT= '/data/Dprt/wcs/c_e_20120312_38_1_1_1_wcs.cat'                        \n",
       "WCSNREF =                   15 / Stars in image available to define WCS         \n",
       "WCSMATCH=                   12 / Stars in image matched against ref catalogue   \n",
       "WCREFCAT=                    3 / 0=fail 1,4=USNOB 2,5=2MASS 3=NOMAD 6=BESPOKE 7=\n",
       "WCCATNAM= 'CDS_NOMAD'          / Name of astrometric catalogue used             \n",
       "LONPOLE =                 180. / Native longitude of celestial pole             \n",
       "WCSRDRES= '0.3318/0.4194'      / [arcsec] WCS fitting residuals, mean and sigma \n",
       "WCSDELRA=                 -2.4 / [arcsec] Shift of fitted WCS w.r.t. nominal    \n",
       "WCSDELDE=                  4.9 / [arcsec] Shift of fitted WCS w.r.t. nominal    \n",
       "WCSDELRO=                0.361 / [deg] Rotator shift w.r.t. nominal WCS         \n",
       "WCSDELPO=                   5. / [arcsec] Shift of fitted WCS w.r.t. nominal    \n",
       "WCSSEP  =                0.332 / [arcsec] Residuals on WCS fit                  \n",
       "WCS_ERR =                    0 / Error status of WCS fit. 0 for no error        "
      ]
     },
     "execution_count": 10,
     "metadata": {},
     "output_type": "execute_result"
    }
   ],
   "source": [
    " image[0].header"
   ]
  },
  {
   "cell_type": "markdown",
   "metadata": {},
   "source": [
    "or a specific value if know keyword"
   ]
  },
  {
   "cell_type": "code",
   "execution_count": 4,
   "metadata": {},
   "outputs": [
    {
     "name": "stdout",
     "output_type": "stream",
     "text": [
      "foobar=1.213801\n"
     ]
    }
   ],
   "source": [
    "\"\"\"\n",
    "CCDXIMSI=                 1024 / [pixels] Imaging pixels                        \n",
    "CCDYIMSI=                 1024 / [pixels] Imaging pixels                        \n",
    "CCDXBIN =                    2 / [pixels] X binning factor                      \n",
    "CCDYBIN =                    2 / [pixels] Y binning factor                      \n",
    "CCDXPIXE=            0.0000135 / [m] Size of pixels, in X:13.5um                \n",
    "CCDYPIXE=            0.0000135 / [m] Size of pixels, in Y:13.5um                \n",
    "CCDSCALE=                0.279 / [arcsec/binned pixel] Scale of binned image on \n",
    "RA      = '09:45:10.866'       / World coordinate at the reference pixel        \n",
    "DEC     = '+17:45:48.17'       / World coordinate at the reference pixel   \n",
    "RADECSYS= 'FK5     '           / [FK4, FK5] Fundamental coord system  \n",
    "L1SEEING=             4.350539 / [pixels] frame seeing in pixels                \n",
    "L1SEESEC=             1.213801 / [arcsec] frame seeing in arcsec                \n",
    "SEEING  =             4.350539 / [pixels] frame seeing in pixels    \n",
    "CTYPE1  = 'RA---TAN'           / WCS projection                                 \n",
    "CTYPE2  = 'DEC--TAN'           / WCS projection                                 \n",
    "CRPIX1  =                 512. / WCS reference pixel coordinate                 \n",
    "CRPIX2  =                 512. / WCS reference pixel coordinate                 \n",
    "CRVAL1  =        146.295274426 / [degrees] World coordinate at the ref pix      \n",
    "CRVAL2  =          17.76338016 / [degrees] World coordinate at the ref pix      \n",
    "WRA     = '9:45:11.075'        / Original RA value from TCS before WCS fit      \n",
    "WDEC    = '+17:45:44.89'       / Original DEC value from TCS before WCS fit     \n",
    "WRADECSY= 'FK5     '           / [FK4,FK5] Original Fundamental system before WC\n",
    "WROTSKY =             270.0001 / [deg] Original sky PA from TCS before WCS fit  \n",
    "EPOCH   =                2000. / Epoch of coordinate                            \n",
    "CDELT1  =       -7.7508973E-05 / [degrees/pixel]                                \n",
    "CDELT2  =        7.7508973E-05 / [degrees/pixel]                                \n",
    "CROTA1  =            90.361783 / [degrees]                                      \n",
    "CROTA2  =            90.361783 / [degrees]                                      \n",
    "\"\"\"\n",
    "\n",
    "foobar=image[0].header['L1SEESEC']\n",
    "print(\"foobar=\"+str(foobar))"
   ]
  },
  {
   "cell_type": "markdown",
   "metadata": {},
   "source": [
    "or a range of keywords"
   ]
  },
  {
   "cell_type": "code",
   "execution_count": 5,
   "metadata": {},
   "outputs": [
    {
     "data": {
      "text/plain": [
       "NAXIS1  =                 1024 / Required FITS header                           \n",
       "NAXIS2  =                 1024 / Required FITS header                           \n",
       "BZERO   =      1131.3868917453 / Required FITS header                           \n",
       "BSCALE  =   0.0340930932608339 / Required FITS header                           \n",
       "ORIGIN  = 'Liverpool JMU'                                                       "
      ]
     },
     "execution_count": 5,
     "metadata": {},
     "output_type": "execute_result"
    }
   ],
   "source": [
    "image[0].header[3:8]"
   ]
  },
  {
   "cell_type": "code",
   "execution_count": 6,
   "metadata": {},
   "outputs": [],
   "source": [
    "image_data=fits.getdata('data/fits/20120312_38_G100.fits',ext=0)"
   ]
  },
  {
   "cell_type": "code",
   "execution_count": 7,
   "metadata": {
    "scrolled": true
   },
   "outputs": [
    {
     "data": {
      "text/plain": [
       "172.17767"
      ]
     },
     "execution_count": 7,
     "metadata": {},
     "output_type": "execute_result"
    }
   ],
   "source": [
    "image_data[0,0]"
   ]
  },
  {
   "cell_type": "code",
   "execution_count": 8,
   "metadata": {
    "scrolled": true
   },
   "outputs": [
    {
     "data": {
      "text/plain": [
       "<matplotlib.colorbar.Colorbar at 0x7f0e7ece69d0>"
      ]
     },
     "execution_count": 8,
     "metadata": {},
     "output_type": "execute_result"
    },
    {
     "data": {
      "image/png": "[encoded data removed]",
      "text/plain": [
       "<matplotlib.figure.Figure at 0x7f0e7ecb2ad0>"
      ]
     },
     "metadata": {},
     "output_type": "display_data"
    }
   ],
   "source": [
    "plt.imshow(image_data, cmap='viridis',vmin=70.0,vmax=150.0)\n",
    "plt.colorbar()"
   ]
  },
  {
   "cell_type": "markdown",
   "metadata": {
    "collapsed": true
   },
   "source": [
    "### To do list\n",
    "\n",
    "In no special order:\n",
    "\n",
    "* distribution of seeing values\n",
    "* deciding a cut\n",
    "* reading in from a list\n",
    "* centroiding an image\n",
    "* doing a cut\n",
    "* doing a radial profile\n",
    "* adding images\n",
    "* making small cut-out region\n",
    "* re-sampling\n",
    "* shifting and adding"
   ]
  },
  {
   "cell_type": "code",
   "execution_count": null,
   "metadata": {},
   "outputs": [],
   "source": []
  }
 ],
 "metadata": {
  "kernelspec": {
   "display_name": "Python 2",
   "language": "python",
   "name": "python2"
  },
  "language_info": {
   "codemirror_mode": {
    "name": "ipython",
    "version": 2
   },
   "file_extension": ".py",
   "mimetype": "text/x-python",
   "name": "python",
   "nbconvert_exporter": "python",
   "pygments_lexer": "ipython2",
   "version": "2.7.17"
  }
 },
 "nbformat": 4,
 "nbformat_minor": 1
}
