{
 "cells": [
  {
   "cell_type": "markdown",
   "metadata": {},
   "source": [
    "Follow some tutorials. Overview [here](http://www.astrobetter.com/blog/2014/07/07/astropy-tutorials-learn-how-to-do-common-astro-tasks-with-astropy-and-python/) at Astrobetter. Start with viewing a FITS image as explained [here](http://www.astropy.org/astropy-tutorials/FITS-images.html). Here is [astropy itself](http://docs.astropy.org/en/stable/)"
   ]
  },
  {
   "cell_type": "code",
   "execution_count": 3,
   "metadata": {},
   "outputs": [
    {
     "name": "stdout",
     "output_type": "stream",
     "text": [
      "Filename: data/fits/20120312_38_G100.fits\n",
      "No.    Name         Type      Cards   Dimensions   Format\n",
      "0    PRIMARY     PrimaryHDU     240   (1024, 1024)   int16 (rescales to float32)   \n"
     ]
    }
   ],
   "source": [
    "import numpy as np\n",
    "from matplotlib import pyplot as plt\n",
    "from math import *\n",
    "%matplotlib inline\n",
    "\n",
    "from astropy.io import fits\n",
    "\n",
    "image = fits.open(\"data/fits/20120312_38_G100.fits\")    # makes a HDU list object\n",
    "\n",
    "image.info()\n"
   ]
  },
  {
   "cell_type": "markdown",
   "metadata": {
    "collapsed": true
   },
   "source": [
    "rtest[0] is the primary HDU object\n",
    "rtest[1] is the first extension, normally the data\n",
    "can get a complete header listing with:"
   ]
  },
  {
   "cell_type": "code",
   "execution_count": 4,
   "metadata": {},
   "outputs": [],
   "source": [
    " # rtest[0].header"
   ]
  },
  {
   "cell_type": "markdown",
   "metadata": {},
   "source": [
    "or a specific value if know keyword"
   ]
  },
  {
   "cell_type": "code",
   "execution_count": 5,
   "metadata": {},
   "outputs": [
    {
     "name": "stdout",
     "output_type": "stream",
     "text": [
      "foobar=1.213801\n"
     ]
    }
   ],
   "source": [
    "\"\"\"\n",
    "CCDXIMSI=                 1024 / [pixels] Imaging pixels                        \n",
    "CCDYIMSI=                 1024 / [pixels] Imaging pixels                        \n",
    "CCDXBIN =                    2 / [pixels] X binning factor                      \n",
    "CCDYBIN =                    2 / [pixels] Y binning factor                      \n",
    "CCDXPIXE=            0.0000135 / [m] Size of pixels, in X:13.5um                \n",
    "CCDYPIXE=            0.0000135 / [m] Size of pixels, in Y:13.5um                \n",
    "CCDSCALE=                0.279 / [arcsec/binned pixel] Scale of binned image on \n",
    "RA      = '09:45:10.866'       / World coordinate at the reference pixel        \n",
    "DEC     = '+17:45:48.17'       / World coordinate at the reference pixel   \n",
    "RADECSYS= 'FK5     '           / [FK4, FK5] Fundamental coord system  \n",
    "L1SEEING=             4.350539 / [pixels] frame seeing in pixels                \n",
    "L1SEESEC=             1.213801 / [arcsec] frame seeing in arcsec                \n",
    "SEEING  =             4.350539 / [pixels] frame seeing in pixels    \n",
    "CTYPE1  = 'RA---TAN'           / WCS projection                                 \n",
    "CTYPE2  = 'DEC--TAN'           / WCS projection                                 \n",
    "CRPIX1  =                 512. / WCS reference pixel coordinate                 \n",
    "CRPIX2  =                 512. / WCS reference pixel coordinate                 \n",
    "CRVAL1  =        146.295274426 / [degrees] World coordinate at the ref pix      \n",
    "CRVAL2  =          17.76338016 / [degrees] World coordinate at the ref pix      \n",
    "WRA     = '9:45:11.075'        / Original RA value from TCS before WCS fit      \n",
    "WDEC    = '+17:45:44.89'       / Original DEC value from TCS before WCS fit     \n",
    "WRADECSY= 'FK5     '           / [FK4,FK5] Original Fundamental system before WC\n",
    "WROTSKY =             270.0001 / [deg] Original sky PA from TCS before WCS fit  \n",
    "EPOCH   =                2000. / Epoch of coordinate                            \n",
    "CDELT1  =       -7.7508973E-05 / [degrees/pixel]                                \n",
    "CDELT2  =        7.7508973E-05 / [degrees/pixel]                                \n",
    "CROTA1  =            90.361783 / [degrees]                                      \n",
    "CROTA2  =            90.361783 / [degrees]                                      \n",
    "\"\"\"\n",
    "\n",
    "foobar=image[0].header['L1SEESEC']\n",
    "print(\"foobar=\"+str(foobar))"
   ]
  },
  {
   "cell_type": "markdown",
   "metadata": {},
   "source": [
    "or a range of keywords"
   ]
  },
  {
   "cell_type": "code",
   "execution_count": 6,
   "metadata": {},
   "outputs": [
    {
     "data": {
      "text/plain": [
       "NAXIS1  =                 1024 / Required FITS header                           \n",
       "NAXIS2  =                 1024 / Required FITS header                           \n",
       "BZERO   =      1131.3868917453 / Required FITS header                           \n",
       "BSCALE  =   0.0340930932608339 / Required FITS header                           \n",
       "ORIGIN  = 'Liverpool JMU'                                                       "
      ]
     },
     "execution_count": 6,
     "metadata": {},
     "output_type": "execute_result"
    }
   ],
   "source": [
    "image[0].header[3:8]"
   ]
  },
  {
   "cell_type": "code",
   "execution_count": 7,
   "metadata": {},
   "outputs": [],
   "source": [
    "image_data=fits.getdata('data/fits/20120312_38_G100.fits',ext=0)"
   ]
  },
  {
   "cell_type": "code",
   "execution_count": 11,
   "metadata": {
    "scrolled": true
   },
   "outputs": [
    {
     "data": {
      "text/plain": [
       "172.17767"
      ]
     },
     "execution_count": 11,
     "metadata": {},
     "output_type": "execute_result"
    }
   ],
   "source": [
    "image_data[0,0]"
   ]
  },
  {
   "cell_type": "code",
   "execution_count": 13,
   "metadata": {
    "scrolled": true
   },
   "outputs": [
    {
     "data": {
      "text/plain": [
       "<matplotlib.colorbar.Colorbar at 0x7fada6a74e50>"
      ]
     },
     "execution_count": 13,
     "metadata": {},
     "output_type": "execute_result"
    },
    {
     "data": {
      "image/png": "[encoded data removed]",
      "text/plain": [
       "<Figure size 432x288 with 2 Axes>"
      ]
     },
     "metadata": {},
     "output_type": "display_data"
    }
   ],
   "source": [
    "plt.imshow(image_data, cmap='gray',vmin=70.0,vmax=150.0)\n",
    "plt.colorbar()"
   ]
  },
  {
   "cell_type": "markdown",
   "metadata": {
    "collapsed": true
   },
   "source": [
    "### To do list\n",
    "\n",
    "In no special order:\n",
    "\n",
    "* distribution of seeing values\n",
    "* deciding a cut\n",
    "* reading in from a list\n",
    "* centroiding an image\n",
    "* doing a cut\n",
    "* doing a radial profile\n",
    "* adding images\n",
    "* making small cut-out region\n",
    "* re-sampling\n",
    "* shifting and adding"
   ]
  },
  {
   "cell_type": "code",
   "execution_count": null,
   "metadata": {},
   "outputs": [],
   "source": []
  }
 ],
 "metadata": {
  "kernelspec": {
   "display_name": "Python 2",
   "language": "python",
   "name": "python2"
  },
  "language_info": {
   "codemirror_mode": {
    "name": "ipython",
    "version": 2
   },
   "file_extension": ".py",
   "mimetype": "text/x-python",
   "name": "python",
   "nbconvert_exporter": "python",
   "pygments_lexer": "ipython2",
   "version": "2.7.5"
  }
 },
 "nbformat": 4,
 "nbformat_minor": 1
}
